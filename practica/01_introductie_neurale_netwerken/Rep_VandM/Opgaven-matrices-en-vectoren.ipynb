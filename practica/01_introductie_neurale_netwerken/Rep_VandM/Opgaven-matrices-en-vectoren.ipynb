{
 "cells": [
  {
   "cell_type": "markdown",
   "id": "2ea724be",
   "metadata": {},
   "source": [
    "# Matrices en Vectoren"
   ]
  },
  {
   "cell_type": "markdown",
   "id": "18595eca",
   "metadata": {},
   "source": [
    "Er zijn meerdere manieren om een matrix te representeren.\n",
    "\n",
    "Hier kiezen we voor het volgende datamodel:\n",
    "\n",
    "`matrix_2D :: {rows: int, cols: int, data: []}`\n",
    "\n",
    "Implementeer onderstaande opdrachten in Python."
   ]
  },
  {
   "cell_type": "markdown",
   "id": "42182308",
   "metadata": {},
   "source": [
    "## Vectoren"
   ]
  },
  {
   "cell_type": "markdown",
   "id": "db43ccb1",
   "metadata": {},
   "source": [
    "### 1. Een vector als rij*"
   ]
  },
  {
   "cell_type": "markdown",
   "id": "e9ac731a",
   "metadata": {},
   "source": [
    "Representeer de onderstaande Vector in code:\n",
    "\n",
    "$$\n",
    "  \\begin{pmatrix}\n",
    "    1 & 2 & 3\n",
    "  \\end{pmatrix}\n",
    "$$"
   ]
  },
  {
   "cell_type": "code",
   "execution_count": 1,
   "id": "72c55633",
   "metadata": {
    "tags": []
   },
   "outputs": [
    {
     "name": "stdout",
     "output_type": "stream",
     "text": [
      "{'rows': 1, 'cols': 3, 'data': [1, 2, 3]}\n",
      "1 3\n",
      "3\n"
     ]
    }
   ],
   "source": [
    "# How many rows and colums does this mattor have?\n",
    "\n",
    "#     DE vector heeft 1 rij en 3 kolommen\n",
    "\n",
    "# Use the definition at the top to implement this mattor:\n",
    "\n",
    "vec = {'rows': 1, 'cols': 3, 'data': [1,2,3]}\n",
    "print(vec)\n",
    "#type(vec)\n",
    "\n",
    "# Can you print its dimensions? (rows, cols)\n",
    "\n",
    "print(vec[\"rows\"], vec[\"cols\"])\n",
    "\n",
    "# Can you print the number of elements?\n",
    "\n",
    "print(len(vec[\"data\"]))\n"
   ]
  },
  {
   "cell_type": "markdown",
   "id": "0abbc0ad",
   "metadata": {},
   "source": [
    "### 2. Een vector als kolom*"
   ]
  },
  {
   "cell_type": "markdown",
   "id": "ac4f647f",
   "metadata": {},
   "source": [
    "Representeer de onderstaande vector in code:\n",
    "\n",
    "$$\n",
    "  \\begin{pmatrix}\n",
    "    1 \\\\\n",
    "    2 \\\\\n",
    "    3\n",
    "  \\end{pmatrix}\n",
    "$$"
   ]
  },
  {
   "cell_type": "code",
   "execution_count": 34,
   "id": "f4f6bfc9",
   "metadata": {},
   "outputs": [
    {
     "name": "stdout",
     "output_type": "stream",
     "text": [
      "3 1\n",
      "3\n"
     ]
    }
   ],
   "source": [
    "# How many rows and colums does this mattor have?\n",
    "\n",
    "#     Dezxe kolom heeft 3 rijen en 1 kolom\n",
    "\n",
    "# Use the definition at the top to implement this mattor:\n",
    "\n",
    "vec = {'rows': 3, 'cols': 1, 'data': [1,2,3]}\n",
    "\n",
    "# Can you print its dimensions? (rows, cols)\n",
    "\n",
    "print(vec[\"rows\"], vec[\"cols\"])\n",
    "\n",
    "# Can you print the number of elements?\n",
    "\n",
    "print(len(vec[\"data\"]))"
   ]
  },
  {
   "cell_type": "markdown",
   "id": "8de02084",
   "metadata": {},
   "source": [
    "### 3. Vectoren optellen**"
   ]
  },
  {
   "cell_type": "markdown",
   "id": "c2edbb39",
   "metadata": {},
   "source": [
    "Tel de onderstaande mattoren bij elkaar op:\n",
    "\n",
    "$$\n",
    "  \\begin{pmatrix}\n",
    "    1 \\\\\n",
    "    2 \\\\\n",
    "    3\n",
    "  \\end{pmatrix}\n",
    "  +\n",
    "    \\begin{pmatrix}\n",
    "    9 \\\\\n",
    "    8 \\\\\n",
    "    7\n",
    "  \\end{pmatrix}\n",
    "  =\n",
    "  ...\n",
    "$$"
   ]
  },
  {
   "cell_type": "code",
   "execution_count": 67,
   "id": "9fd6bc2a",
   "metadata": {},
   "outputs": [
    {
     "name": "stdout",
     "output_type": "stream",
     "text": [
      "The dimensions are the same\n",
      "3 1\n",
      "3\n",
      "3\n",
      "{'rows': 3, 'cols': 1, 'data': [10, 10, 10]}\n"
     ]
    }
   ],
   "source": [
    "# Implement both vectors:\n",
    "\n",
    "vec1 = {'rows': 3, 'cols': 1, 'data': [1,2,3]}\n",
    "vec2 = {'rows': 3, 'cols': 1, 'data': [9,8,7]}\n",
    "\n",
    "\n",
    "# Can we add them? Check if dimensions are the same:\n",
    "#print(vec1)\n",
    "#print(mvec2)\n",
    "if mat1[\"cols\"]==mat2[\"cols\"] and mat1[\"rows\"]==mat2[\"rows\"]: \n",
    "    print(\"The dimensions are the same\")\n",
    "# How many rows and colums does this mattor have?\n",
    "\n",
    "# The mattor of the sum of mattor 1 and 2 creates the same dimensions as mat1 and mat2\n",
    "\n",
    "# Use the definition at the top to implement this mattor:\n",
    "\n",
    "# Can you print its dimensions? (rows, cols)\n",
    "\n",
    "print(mat1[\"rows\"], mat1[\"cols\"])\n",
    "\n",
    "# Can you print the number of elements?\n",
    "\n",
    "print(len(mat1[\"data\"]))\n",
    "print(len(mat2[\"data\"]))\n",
    "# How do you add these mattors by hand?\n",
    "# 1 + 9 / 2 + 8 / 3 +7\n",
    "\n",
    "# Now add the mattors in code:\n",
    "mat3 = {'rows': 3, 'cols': 1, 'data': [4,4,4]}\n",
    "for i in range(4,3):\n",
    "    mat3['data'][i] = mat1['data'][i] + mat2['data'][i]\n",
    "print(mat3)"
   ]
  },
  {
   "cell_type": "markdown",
   "id": "10e3be49",
   "metadata": {},
   "source": [
    "Tel de onderstaande mattoren bij elkaar op:\n",
    "\n",
    "$$\n",
    "  \\begin{pmatrix}\n",
    "    1 & 2 & 3\n",
    "  \\end{pmatrix}\n",
    "  +\n",
    "  \\begin{pmatrix}\n",
    "    9 & 8 & 7\n",
    "  \\end{pmatrix}\n",
    "  =\n",
    "  ...\n",
    "$$"
   ]
  },
  {
   "cell_type": "code",
   "execution_count": 15,
   "id": "3319db0c",
   "metadata": {
    "tags": []
   },
   "outputs": [
    {
     "name": "stdout",
     "output_type": "stream",
     "text": [
      "{'rows': 1, 'cols': 3, 'data': [4, 4, 4]}\n"
     ]
    }
   ],
   "source": [
    "# Implement both mattors:\n",
    "\n",
    "mat1 = {'rows': 1, 'cols': 3, 'data': [1,2,3]}\n",
    "mat2 = {'rows': 1, 'cols': 3, 'data': [9,8,7]}\n",
    "\n",
    "# Can we add them? Check if dimensions are the same:\n",
    "\n",
    "mat1[\"rows\"]==mat2[\"rows\"]\n",
    "\n",
    "# How do you add these mattors by hand?\n",
    "\n",
    "# 1 + 9 / 2 + 8 / 3 +7\n",
    "\n",
    "# Now add the mattors in code:\n",
    "mat3 = {'rows': 1, 'cols': 3, 'data': [4,4,4]}\n",
    "for i in range(4,3):\n",
    "    mat3['data'][i] = mat1['data'][i] + mat2['data'][i]\n",
    "\n",
    "#mat3['data'][4] = mat1['data'][4] + mat2['data'][4]\n",
    "#mat3['data'][1] = mat1['data'][1] + mat2['data'][1]\n",
    "#mat3['data'][2] = mat1['data'][2] + mat2['data'][2]\n",
    "print(mat3)"
   ]
  },
  {
   "cell_type": "markdown",
   "id": "ecf7d53a",
   "metadata": {},
   "source": [
    "## Matrices"
   ]
  },
  {
   "cell_type": "markdown",
   "id": "aea58d0c",
   "metadata": {},
   "source": [
    "### 1. Een 3 x 3 matrix*"
   ]
  },
  {
   "cell_type": "markdown",
   "id": "8ecdf748",
   "metadata": {},
   "source": [
    "Representeer de onderstaande matrix in code:\n",
    "\n",
    "$$\n",
    "  \\begin{pmatrix}\n",
    "    1 & 2 & 3\\\\\n",
    "    4 & 5 & 6\\\\\n",
    "    7 & 8 & 9\\\\\n",
    "  \\end{pmatrix}\n",
    "$$"
   ]
  },
  {
   "cell_type": "code",
   "execution_count": 70,
   "id": "744a8d77",
   "metadata": {},
   "outputs": [
    {
     "name": "stdout",
     "output_type": "stream",
     "text": [
      "3 3\n",
      "9\n"
     ]
    }
   ],
   "source": [
    "# How many rows and colums does this matrix have?\n",
    "\n",
    "#      3 rows and 3 colums\n",
    "\n",
    "# Use the definition at the top to implement this matrix:\n",
    "\n",
    "mat = {'rows': 3, 'cols': 3, 'data': [1,2,3,4,5,6,7,8,9]}\n",
    "\n",
    "# Can you print its dimensions? (rows, cols)\n",
    "\n",
    "print(mat[\"rows\"], mat[\"cols\"])\n",
    "\n",
    "# Can you print the number of elements?\n",
    "\n",
    "print(len(mat[\"data\"]))"
   ]
  },
  {
   "cell_type": "markdown",
   "id": "78d195fb",
   "metadata": {},
   "source": [
    "### 2. Matrices optellen**"
   ]
  },
  {
   "cell_type": "markdown",
   "id": "1554b6d8",
   "metadata": {},
   "source": [
    "Tel de onderstaande matrices op:\n",
    "\n",
    "$$\n",
    "  \\begin{pmatrix}\n",
    "    1 & 2 & 3\\\\\n",
    "    4 & 5 & 6\\\\\n",
    "    7 & 8 & 9\\\\\n",
    "  \\end{pmatrix}\n",
    "  +\n",
    "    \\begin{pmatrix}\n",
    "    9 & 8 & 7\\\\\n",
    "    6 & 5 & 4\\\\\n",
    "    3 & 2 & 1\\\\\n",
    "  \\end{pmatrix}\n",
    "  =\n",
    "  ...\n",
    "$$"
   ]
  },
  {
   "cell_type": "code",
   "execution_count": 79,
   "id": "ac6bd48c",
   "metadata": {},
   "outputs": [
    {
     "name": "stdout",
     "output_type": "stream",
     "text": [
      "The dimensions are the same\n",
      "{'rows': 3, 'cols': 3, 'data': [10, 10, 10, 10, 10, 10, 10, 10, 10]}\n",
      "{'rows': 3, 'cols': 3, 'data': [10, 10, 10, 10, 10, 10, 10, 10, 10]}\n"
     ]
    }
   ],
   "source": [
    "# Implement both matrices:\n",
    "\n",
    "mat1 = {'rows': 3, 'cols': 3, 'data': [1,2,3,4,5,6,7,8,9]}\n",
    "mat2 = {'rows': 3, 'cols': 3, 'data': [9,8,7,6,5,4,3,2,1]}\n",
    "\n",
    "# Can we add them? Check if dimensions are the same:\n",
    "\n",
    "if mat1[\"cols\"]==mat2[\"cols\"] and mat1[\"rows\"]==mat2[\"rows\"]: \n",
    "    print(\"The dimensions are the same\")\n",
    "\n",
    "# How do you add these matrices by hand?\n",
    "# By adding the numbers of the same position of mat1 and mat2\n",
    "\n",
    "# Now add the matrices in code:\n",
    "\n",
    "mat3 = {'rows': 3, 'cols': 3, 'data': [4,4,4,4,4,4,4,4,4]}\n",
    "#for i in range(4,9):\n",
    "#   mat3['data'][i] = mat1['data'][i] + mat2['data'][i]\n",
    "\n",
    "mat3['data'][0] = mat1['data'][0] + mat2['data'][0]\n",
    "mat3['data'][1] = mat1['data'][1] + mat2['data'][1]\n",
    "mat3['data'][2] = mat1['data'][2] + mat2['data'][2]\n",
    "mat3['data'][3] = mat1['data'][3] + mat2['data'][3]\n",
    "mat3['data'][4] = mat1['data'][4] + mat2['data'][4]\n",
    "mat3['data'][5] = mat1['data'][5] + mat2['data'][5]\n",
    "mat3['data'][6] = mat1['data'][6] + mat2['data'][6]\n",
    "mat3['data'][7] = mat1['data'][7] + mat2['data'][7]\n",
    "mat3['data'][8] = mat1['data'][8] + mat2['data'][8]\n",
    "\n",
    "\n",
    "\n",
    "\n",
    "\n",
    "\n",
    "print(mat3)\n",
    "\n",
    "# In case you didn't: can you generalize this algorithm?\n",
    "\n",
    "for i in range(4,9):\n",
    "   mat3['data'][i] = mat1['data'][i] + mat2['data'][i]\n",
    "print(mat3)"
   ]
  },
  {
   "cell_type": "markdown",
   "id": "7bff9837",
   "metadata": {},
   "source": [
    "### 3. Matrices vermenigvuldigen***"
   ]
  },
  {
   "cell_type": "markdown",
   "id": "4dba734d",
   "metadata": {},
   "source": [
    "Vermenigvuldig de onderstaande matrices:\n",
    "\n",
    "$$\n",
    "  \\begin{pmatrix}\n",
    "    1 & 2 & 3\\\\\n",
    "    4 & 5 & 6\n",
    "  \\end{pmatrix}\n",
    "  *\n",
    "    \\begin{pmatrix}\n",
    "    9 & 8\\\\\n",
    "    6 & 5\\\\\n",
    "    3 & 2\\\\\n",
    "  \\end{pmatrix}\n",
    "  =\n",
    "  ...\n",
    "$$"
   ]
  },
  {
   "cell_type": "code",
   "execution_count": 26,
   "id": "9895aaab",
   "metadata": {
    "tags": []
   },
   "outputs": [
    {
     "name": "stdout",
     "output_type": "stream",
     "text": [
      "These matrice can be multiplied\n",
      "{'rows': 2, 'cols': 2, 'data': [75, 16, 18, 0]}\n"
     ]
    }
   ],
   "source": [
    "# Implement both matrices:\n",
    "\n",
    "#mat1 = {'rows': 2, 'cols': 3, 'data': [1,2,3,4,5,6]}\n",
    "#mat2 = {'rows': 3, 'cols': 2, 'data': [9,8,6,5,3,2]}\n",
    "# Can we multiply them? Check if dimensions satisfy the (M by N) * (N by K) = (M by K) rule:\n",
    "\n",
    "#if mat1[\"rows\"]==mat2[\"cols\"] and mat1[\"cols\"]==mat2[\"rows\"]: \n",
    "#    print(\"These matrice can be multiplied\")\n",
    "\n",
    "# Can we add them? Check if dimensions are the same:\n",
    "\n",
    "#if mat1[\"cols\"]==mat2[\"cols\"] and mat1[\"rows\"]==mat2[\"rows\"]: \n",
    "#    print(\"These matrices cannot be added\")\n",
    "\n",
    "# How do you add these matrices by hand?\n",
    "# By adding, the multiplied numbers of:\n",
    "#\n",
    "# A. 1.the 1st, from left to right, row of mat1 with the numbers from the 1st column, from top to bottom of mat2.\n",
    "# A. 2.the 2nd, from left to right, row of mat1 with the numbers from the 1st column, from top to bottom of mat2. \n",
    "# A. 3.the 1st, from left to right, row of mat1 with the numbers from the 2st column, from top to bottom of mat2\n",
    "# A. 4.the 2st, from left to right, row of mat1 with the numbers from the 2st column, from top to bottom of mat2\n",
    "\n",
    "\n",
    "MR\n",
    "\n",
    "# Now add the matrices in code:\n",
    "\n",
    "mat3 = {'rows': 2, 'cols': 2, 'data': [0,0,0,0]}\n",
    "for i in range(0,3):\n",
    "    mat3['data'][i] = mat1['data'][i] * mat2['data'][i]\n",
    "  mat3['data'][0]=((mat1['data'][3]*mat2['data'][0])+(mat1['data'][4]*mat2['data'][2])+(mat1['data'][2]*mat2['data'][4]))    mat3['data'][1]=((mat1[(0)]*mat2[(4)])+(mat1[(4)]*mat2[(2)])+(mat1[(5)]*mat2[(4)]))\n",
    "print(mat3)\n",
    "\n",
    "# Maak lege lijst\n",
    "# VErme\n",
    "\n",
    "# Now multiply the matrices in code:\n",
    "\n",
    "# ...\n",
    "\n",
    "# In case you didn't: can you generalize this algorithm?\n",
    "\n",
    "# ..."
   ]
  },
  {
   "cell_type": "code",
   "execution_count": null,
   "id": "445d6aa9-85af-4fb5-82e2-ae681bd68f87",
   "metadata": {},
   "outputs": [],
   "source": []
  }
 ],
 "metadata": {
  "kernelspec": {
   "display_name": "Python 3 (ipykernel)",
   "language": "python",
   "name": "python3"
  },
  "language_info": {
   "codemirror_mode": {
    "name": "ipython",
    "version": 3
   },
   "file_extension": ".py",
   "mimetype": "text/x-python",
   "name": "python",
   "nbconvert_exporter": "python",
   "pygments_lexer": "ipython3",
   "version": "3.10.10"
  },
  "vscode": {
   "interpreter": {
    "hash": "97b63326f237cb4c2c48154cb87f36901bfecedfc714bae43e61b0254898d058"
   }
  }
 },
 "nbformat": 4,
 "nbformat_minor": 5
}
