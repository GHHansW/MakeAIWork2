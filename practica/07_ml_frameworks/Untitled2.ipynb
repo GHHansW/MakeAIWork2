{
 "cells": [
  {
   "cell_type": "code",
   "execution_count": null,
   "id": "82bbe221-584f-4dc7-b057-710caa60cea8",
   "metadata": {},
   "outputs": [],
   "source": [
    "# Programmeer een simulatie lus waarin\n",
    "# Een auto met massa 600 kilogram\n",
    "# en netto voortstuwingskracht F = 800 N* optrekt\n",
    "# over een afstand van 100 meter\n",
    "# Print de eindtijd via de console\n",
    "# *Motorvermogen, overbrengingsmoment (\"grip\") en luchtweerstand nemen we niet mee\n",
    "\n",
    "# Ticking clock: while (running):\n",
    "# t_new = t_old + dt\n",
    "# \n",
    "# dt = delta tijd verstreken\n",
    "\n",
    "# Accelereren\n",
    "# dv = F/m * dt\n",
    "# v_new = v_old + dv\n",
    "# \n",
    "# dv = delta snelheid\n",
    "\n",
    "# Verplaatsen:\n",
    "# dx = v_new * dt\n",
    "# x_new = x_old + dx\n",
    "# \n",
    "# dx = delta afstand"
   ]
  },
  {
   "cell_type": "code",
   "execution_count": null,
   "id": "8c949b24-d279-4f99-b7b5-2d1cc359cc7a",
   "metadata": {},
   "outputs": [],
   "source": []
  }
 ],
 "metadata": {
  "kernelspec": {
   "display_name": "Python 3 (ipykernel)",
   "language": "python",
   "name": "python3"
  },
  "language_info": {
   "codemirror_mode": {
    "name": "ipython",
    "version": 3
   },
   "file_extension": ".py",
   "mimetype": "text/x-python",
   "name": "python",
   "nbconvert_exporter": "python",
   "pygments_lexer": "ipython3",
   "version": "3.10.11"
  }
 },
 "nbformat": 4,
 "nbformat_minor": 5
}
