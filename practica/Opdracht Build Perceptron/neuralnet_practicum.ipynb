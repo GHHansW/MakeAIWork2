{
 "cells": [
  {
   "cell_type": "markdown",
   "id": "701cadee",
   "metadata": {},
   "source": [
    "# Practicum opdracht implementeren neural net"
   ]
  },
  {
   "cell_type": "markdown",
   "id": "267c511a",
   "metadata": {},
   "source": [
    "## Stap 1: definieren van de dataset\n",
    "\n",
    "We werken met een 3x3 rooster waarbinnen elk vakje zwart (1) of wit (0) kan zijn. We kunnen dus beginnen met het diefiniëren van de dataset. Als datatype gebruiken we lists om de roosters en waardes binnen de roosters te implementeren. Bij een 3x3 rooster zou een enkele lijst volstaan, maar voor de volledigheid wordt er gewerkt met een list-of-lists, waarbij elke sub-lijst een horizontale regel in het rooster is. "
   ]
  },
  {
   "cell_type": "code",
   "execution_count": 11,
   "id": "d55e3d7f",
   "metadata": {
    "tags": []
   },
   "outputs": [],
   "source": [
    "import random"
   ]
  },
  {
   "cell_type": "code",
   "execution_count": 12,
   "id": "f853ee99",
   "metadata": {},
   "outputs": [],
   "source": [
    "# - 1. inputMatrix * weightMatrix + bias\n",
    "# - 2. outputMatrix (2 x 1) geeft kruisje of rondje\n",
    "# - 3. softmax toevoegen: uitslag tussen 0 en 1 voor beide velkden in de outputMatrix\n",
    "# - 4. trainen met 4 x goede inputMatrix met bijbehorende 4 x gelabelde outPutMatrix\n",
    "# - 5. trainen in epochs mbv learningRate\n",
    "# - 6. resultaten opslaan en beste resultaat kiezen adhv GradientDescent (RMSE)\n",
    "# - 7. testen met getraind netwerk en zowel goede als gemankeerde inputMatrix\n",
    "# - 8. eventueel terug naar trainen als yhat nog niet optimaal\n",
    "\n",
    "\n",
    "# Definieer rondje/onvolmaakt rondje/kruisje en onvolmaakt kruisje in een grid van 3 x 3 pixels\n",
    "# Doel is om obv de varierende invulling van de pixels \n",
    "# van de pixels te herkennen of iets een O, een X is of geen van beide\n",
    "# Creer de invoer met een 2D array\n",
    "# definieer het neurale net:\n",
    "#   Input node (9 x/ getOutput)\n",
    "#   Link (18 x/inputnode/outputnode/weights/+getOutput)\n",
    "#   Output node (2 x -)\n",
    "# Ieder input set wordt middels vermenigvuldiging, per input node\n",
    "# met zijn weight (initiele zelf te kiezen, bijvoorbeeld 1 voor X1 .. x9) \n",
    "# en als output doorgegeven naar de outputnode.\n",
    "# In de outputnode wordt de sofmax function gebruikt op basis de uitkomst  met weights en bias\n",
    "# De uitkomst van node 1 en node 2 moet 1 zijn;\n",
    "# Backpropagation\n",
    "\n",
    "# train het model door 1 set van 9 pixelwaardes per keer\n",
    "# in te voeren. \n",
    "# De output =\n",
    "# De waardes van de uitkomst van de softmax\n",
    "\n",
    "# na x trainingsepochs moet de output zijn:\n",
    "# een overzicht van de de weights tov de \n",
    "# volgende stappen zijn het toevoegen van Matrices en vectore, toevoegen hidden layer\n",
    "# en numpy"
   ]
  },
  {
   "cell_type": "code",
   "execution_count": 13,
   "id": "4693160e",
   "metadata": {
    "tags": []
   },
   "outputs": [],
   "source": [
    "# Classes\n",
    "\n",
    "# 3 x 3 matrix\n",
    "\n",
    "# Een hele cirkel\n",
    "cirkel_1 = [[1,1,1],\n",
    "          [1,0,1],\n",
    "          [1,1,1]]\n",
    "\n",
    "cirkel_2 = [[0,1,0],\n",
    "          [1,0,1],\n",
    "          [0,1,0]]\n",
    "\n",
    "# Een recht kruis\n",
    "kruis_1 = [[0,1,0],\n",
    "           [1,1,1],\n",
    "           [0,1,0]]\n",
    "\n",
    "kruis_2 = [[1,0,1],\n",
    "           [0,1,0],\n",
    "           [1,0,1]]\n",
    "\n"
   ]
  },
  {
   "cell_type": "markdown",
   "id": "d0a3f633",
   "metadata": {},
   "source": [
    "<p>\n",
    "    labels staan in een predictionMatrix<br>\n",
    "    waarbij het eerste getal de score op cirkel<br> \n",
    "    en de tweede de score op kruis<br>\n",
    "    2 x 1 matrix<br>\n",
    "    [[scoreCirkel], [scoreKruis]]\n",
    "</p>    "
   ]
  },
  {
   "cell_type": "code",
   "execution_count": 14,
   "id": "57da6521",
   "metadata": {},
   "outputs": [],
   "source": [
    "inputMatrix = kruis_2"
   ]
  },
  {
   "cell_type": "code",
   "execution_count": 15,
   "id": "841c9de1",
   "metadata": {
    "tags": []
   },
   "outputs": [],
   "source": [
    "# a = random.uniform(0, 1)\n",
    "# b = random.uniform(0, 1)\n",
    "# type((a, b))"
   ]
  },
  {
   "cell_type": "code",
   "execution_count": 16,
   "id": "a98b89dd",
   "metadata": {
    "tags": []
   },
   "outputs": [],
   "source": [
    "\n",
    "# randomValue = round(random.uniform(0, 1), 2)\n"
   ]
  },
  {
   "cell_type": "code",
   "execution_count": 21,
   "id": "cda9d7c2",
   "metadata": {
    "tags": []
   },
   "outputs": [],
   "source": [
    "def initializeBias():\n",
    "    # Matrixvermenigvuldiging van de getransponeerde platgemaakte inputMatrix\n",
    "    # en de weightMatrix       \n",
    "    return random.uniform(0, 1)\n",
    "\n",
    "# Initializeer bias en weightVector met random numbers tussen 0 en \n",
    "# Input: 3x3\n",
    "# Output: # 9 x 1\n",
    "def flatten(matrix):    \n",
    "    flatMatrix = [item for sub_list in inputMatrix for item in sub_list]    \n",
    "    return flatMatrix\n",
    "\n",
    "def initializeWeightMatrix(size, flatMatrix):\n",
    "    # Matrixvermenigvuldiging van de getransponeerde platgemaakte inputMatrix\n",
    "    # en de weightMatrix       \n",
    "    # size x 1 vector\n",
    "    size = len(flatMatrix[0])\n",
    "    return [[round(random.uniform(0, 1), 2)] for i in range(size)]\n",
    "\n",
    "\n",
    "def transpose(matrix):\n",
    "    transposedMatrix = [[flatMatrix[j][i] for j in range(len(flatMatrix))] for i in range(len(flatMatrix[0]))]  \n",
    "    return transposedMatrix\n",
    "\n",
    "# Output: enkelwaardig resultaat\n",
    "# gewogen som \n",
    "def multiply(transposedMatrix, weightMatrix):\n",
    "    weightedSum=[[sum(a*b for a,b in zip(A_row, B_col)) for B_col in zip(*weightMatrix)] \n",
    "        for A_row in flatMatrix]\n",
    "    return weightedSum\n",
    "\n",
    "def outputBefore(weightedSum, bias):\n",
    "    outputBeforeSoftmax = weightedSum[0][0] + bias\n",
    "\n",
    "# Input: 3x3 matrix\n",
    "# Output: 2x1 matrix\n",
    "# def classify(inputMatrix):\n",
    "        \n",
    "#     # Plat maken van de inputMatrix\n",
    "#     # 3x3 -> 9x1\n",
    "#     flatMatrix = flatten(inputMatrix)\n",
    "    \n",
    "#     # Transponeren van de inputMatrix\n",
    "#     transposedMatrix = transpose(flatMatrix)    \n",
    "#     predictionMatrix = multiply(transposedMatrix, weightMatrix)\n",
    "    \n",
    "#     return predictionMatrix\n",
    "\n",
    "#    #  return transposedMatrix"
   ]
  },
  {
   "cell_type": "code",
   "execution_count": 22,
   "id": "233f7ab6",
   "metadata": {
    "tags": []
   },
   "outputs": [
    {
     "name": "stdout",
     "output_type": "stream",
     "text": [
      "bias : 0.4863820118353773\n"
     ]
    },
    {
     "ename": "TypeError",
     "evalue": "initializeWeightMatrix() missing 1 required positional argument: 'flatMatrix'",
     "output_type": "error",
     "traceback": [
      "\u001b[1;31m---------------------------------------------------------------------------\u001b[0m",
      "\u001b[1;31mTypeError\u001b[0m                                 Traceback (most recent call last)",
      "Cell \u001b[1;32mIn[22], line 15\u001b[0m\n\u001b[0;32m     13\u001b[0m \u001b[39m# weightMatrix with size of flattened inputVector\u001b[39;00m\n\u001b[0;32m     14\u001b[0m size \u001b[39m=\u001b[39m \u001b[39mlen\u001b[39m(test_circle) \u001b[39m*\u001b[39m \u001b[39mlen\u001b[39m(test_circle[\u001b[39m0\u001b[39m])\n\u001b[1;32m---> 15\u001b[0m weightMatrix \u001b[39m=\u001b[39m initializeWeightMatrix(size)\n\u001b[0;32m     16\u001b[0m \u001b[39mprint\u001b[39m(\u001b[39mf\u001b[39m\u001b[39m\"\u001b[39m\u001b[39mweightMatrix : \u001b[39m\u001b[39m{\u001b[39;00mweightMatrix\u001b[39m}\u001b[39;00m\u001b[39m\"\u001b[39m)\n\u001b[0;32m     18\u001b[0m \u001b[39m#functie geeft 2x1 terug en accepteert 3x3 matrix\u001b[39;00m\n",
      "\u001b[1;31mTypeError\u001b[0m: initializeWeightMatrix() missing 1 required positional argument: 'flatMatrix'"
     ]
    }
   ],
   "source": [
    "# inputVector\n",
    "test_circle = [\n",
    "    [1,1,1],\n",
    "    [1,0,1],\n",
    "    [1,1,1]\n",
    "]\n",
    "\n",
    "# print(f\"transposed Matrix : {transposedMatrix}\")\n",
    "\n",
    "bias = initializeBias()\n",
    "print(f\"bias : {bias}\")\n",
    "\n",
    "# weightMatrix with size of flattened inputVector\n",
    "size = len(test_circle) * len(test_circle[0])\n",
    "weightMatrix = initializeWeightMatrix(size)\n",
    "print(f\"weightMatrix : {weightMatrix}\")\n",
    "\n",
    "#functie geeft 2x1 terug en accepteert 3x3 matrix\n",
    "classify(test_circle)"
   ]
  },
  {
   "cell_type": "code",
   "execution_count": null,
   "id": "ad3eb191-6fae-4337-b84c-24d4ba0f3829",
   "metadata": {},
   "outputs": [],
   "source": []
  }
 ],
 "metadata": {
  "kernelspec": {
   "display_name": "Python 3 (ipykernel)",
   "language": "python",
   "name": "python3"
  },
  "language_info": {
   "codemirror_mode": {
    "name": "ipython",
    "version": 3
   },
   "file_extension": ".py",
   "mimetype": "text/x-python",
   "name": "python",
   "nbconvert_exporter": "python",
   "pygments_lexer": "ipython3",
   "version": "3.10.10"
  }
 },
 "nbformat": 4,
 "nbformat_minor": 5
}
