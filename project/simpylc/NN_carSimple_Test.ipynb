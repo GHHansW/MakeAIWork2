{
 "cells": [
  {
   "cell_type": "code",
   "execution_count": 15,
   "id": "6024bbbc-169d-4b34-962a-184b21942a8e",
   "metadata": {
    "tags": []
   },
   "outputs": [],
   "source": [
    "import os\n",
    "import torch\n",
    "import pandas as pd\n",
    "import pickle as pkl\n",
    "\n",
    "from torch import nn\n",
    "from torch import optim\n",
    "from torch.utils.data import Dataset, DataLoader\n",
    "from sklearn.model_selection import train_test_split\n",
    "\n",
    "import torch.nn.functional as F\n",
    "\n",
    "import matplotlib.pyplot as plt"
   ]
  },
  {
   "cell_type": "code",
   "execution_count": 8,
   "id": "1eb8324e-0945-4a78-aad3-9768811c1742",
   "metadata": {
    "tags": []
   },
   "outputs": [
    {
     "name": "stdout",
     "output_type": "stream",
     "text": [
      "torch.Size([3357, 3])\n",
      "torch.Size([3357, 1])\n"
     ]
    }
   ],
   "source": [
    "#----------------------------------------\n",
    "\n",
    "# Read data, convert to NumPy arrays\n",
    "data = pd.read_csv(\"sonar.csv\", header=None)\n",
    "X = data.iloc[:, 0:3].values\n",
    "y = data.iloc[:, 3].values\n",
    "\n",
    "# convert into PyTorch tensors\n",
    "trainingSetX = torch.tensor(X, dtype=torch.float32)\n",
    "trainingSetY = torch.tensor(y, dtype=torch.float32).reshape(-1, 1)\n",
    "\n",
    "#----------------------------------------\n",
    "\n",
    "print(trainingSetX.shape)\n",
    "print(trainingSetY.shape)\n",
    "\n",
    "#----------------------------------------"
   ]
  },
  {
   "cell_type": "code",
   "execution_count": 9,
   "id": "b5e704c6-52d9-4f23-9632-f74bb5e260fa",
   "metadata": {
    "tags": []
   },
   "outputs": [
    {
     "name": "stdout",
     "output_type": "stream",
     "text": [
      "Using cpu device\n"
     ]
    }
   ],
   "source": [
    "#----------------------------------------\n",
    "\n",
    "device = (\n",
    "\n",
    "    \"cuda\" if torch.cuda.is_available() else \"mps\" if torch.backends.mps.is_available() else \"cpu\"\n",
    "\n",
    ")\n",
    "\n",
    "#----------------------------------------\n",
    "\n",
    "print(f\"Using {device} device\")\n",
    "\n",
    "#----------------------------------------"
   ]
  },
  {
   "cell_type": "code",
   "execution_count": 26,
   "id": "ea2b0a79-fc5e-46de-bcd9-88eb8a3905ca",
   "metadata": {
    "tags": []
   },
   "outputs": [],
   "source": [
    "#----------------------------------------\n",
    "\n",
    "class NeuralNetwork(nn.Module):\n",
    "    \n",
    "    def __init__(self, inputs, outputs):\n",
    "        \n",
    "        super().__init__()\n",
    "        \n",
    "        # Simple linear connections\n",
    "        self.inOut = nn.Linear(inputs, outputs)\n",
    "        \n",
    "        # Sigmoid squishification                - DO NOT USE SIGMOID FOR CAR\n",
    "        # self.sigmoid = nn.Sigmoid()\n",
    "\n",
    "    def forward(self, x):\n",
    "        \n",
    "       #  return self.sigmoid(self.inOut(x))\n",
    "        return self.inOut(x)\n",
    "\n",
    "#----------------------------------------"
   ]
  },
  {
   "cell_type": "code",
   "execution_count": 35,
   "id": "938df5ad-d5b6-4528-a105-72deac767561",
   "metadata": {
    "tags": []
   },
   "outputs": [
    {
     "name": "stdout",
     "output_type": "stream",
     "text": [
      "NeuralNetwork(\n",
      "  (inOut): Linear(in_features=3, out_features=1, bias=True)\n",
      ")\n",
      "Model accuracy: 5.33%\n"
     ]
    }
   ],
   "source": [
    "#----------------------------------------\n",
    "\n",
    "epochs = 50\n",
    "\n",
    "learningRate = 0.01\n",
    "\n",
    "#----------------------------------------\n",
    "\n",
    "# Simplest possible network: 9 inputs and 1 output (binary: 0 when < 0.5 and 1 when > 0.5)\n",
    "model = NeuralNetwork(3, 1)\n",
    "\n",
    "print(model)\n",
    "\n",
    "#----------------------------------------\n",
    "\n",
    "losses = []\n",
    "\n",
    "# Take binary cross entropy as loss function (one output interpreted as binary)\n",
    "# lossFunction = nn.BCELoss()\n",
    "lossFunction = nn.MSELoss()\n",
    "\n",
    "# Use stochastic gradient descent as optimizer, use weights and biases of model\n",
    "gradientDescent = torch.optim.SGD(model.parameters(), lr=learningRate)\n",
    "# gradientDescent = torch.optim.RMSprop(model.parameters(), lr=learningRate)\n",
    "\n",
    "#----------------------------------------\n",
    "\n",
    "# AVG_Loss = losses/epochs\n",
    "added = False\n",
    "\n",
    "for i in range(epochs):\n",
    "    \n",
    "    added = False\n",
    "    \n",
    "    for x, y in zip(trainingSetX, trainingSetY):\n",
    "    \n",
    "        # Reset the gradient delta's (dw, db)\n",
    "        gradientDescent.zero_grad()\n",
    "\n",
    "        # Forward step\n",
    "        yhat = model(x)\n",
    "\n",
    "        # Compute loss\n",
    "        loss = lossFunction(yhat, y)\n",
    "        \n",
    "        if not added:\n",
    "        \n",
    "            added = True\n",
    "\n",
    "            # Keep track of loss\n",
    "            losses.append(loss.item())\n",
    "\n",
    "        # Apply gradient descent (via backpropagation)\n",
    "        loss.backward()\n",
    "\n",
    "        # Use w += -step * dw * learnRate\n",
    "        gradientDescent.step()\n",
    "        \n",
    "#----------------------------------------\n",
    "\n",
    "# evaluate accuracy after training\n",
    "model.eval()\n",
    "y_pred = model(trainingSetX)\n",
    "acc = (y_pred.round() == trainingSetY).float().mean()\n",
    "acc = float(acc)\n",
    "print(\"Model accuracy: %.2f%%\" % (acc*100))\n",
    "\n",
    "\n",
    "#----------------------------------------"
   ]
  },
  {
   "cell_type": "code",
   "execution_count": 36,
   "id": "d2d8b0f4-f3b0-4c12-87f8-3c1447d5da5f",
   "metadata": {
    "tags": []
   },
   "outputs": [],
   "source": [
    "filehandler = open('SDCar.pickle', 'wb') \n",
    "pkl.dump(model, filehandler)"
   ]
  },
  {
   "cell_type": "code",
   "execution_count": null,
   "id": "9e125aad-3432-4077-8dc7-85c1645b0e5c",
   "metadata": {
    "tags": []
   },
   "outputs": [],
   "source": []
  },
  {
   "cell_type": "code",
   "execution_count": 37,
   "id": "50aa443a-aa5c-478c-b8ea-9c25d6ef8c6e",
   "metadata": {
    "tags": []
   },
   "outputs": [
    {
     "data": {
      "image/png": "[encoded data removed]",
      "text/plain": [
       "<Figure size 640x480 with 1 Axes>"
      ]
     },
     "metadata": {},
     "output_type": "display_data"
    }
   ],
   "source": [
    "#----------------------------------------\n",
    "\n",
    "fig, ax = plt.subplots()\n",
    "ax.set(xlabel='Epoch', ylabel='Cost', title=\"Training Cost\")\n",
    "\n",
    "plt.plot([x for x in range(epochs)], losses, 'red')\n",
    "plt.show()\n",
    "\n",
    "#----------------------------------------"
   ]
  },
  {
   "cell_type": "code",
   "execution_count": 38,
   "id": "98feda4e-4716-4c1b-bfb8-140f0f2becf4",
   "metadata": {
    "tags": []
   },
   "outputs": [
    {
     "ename": "NameError",
     "evalue": "name 'testSetX' is not defined",
     "output_type": "error",
     "traceback": [
      "\u001b[1;31m---------------------------------------------------------------------------\u001b[0m",
      "\u001b[1;31mNameError\u001b[0m                                 Traceback (most recent call last)",
      "Cell \u001b[1;32mIn[38], line 4\u001b[0m\n\u001b[0;32m      1\u001b[0m \u001b[38;5;66;03m#----------------------------------------\u001b[39;00m\n\u001b[0;32m      2\u001b[0m \n\u001b[0;32m      3\u001b[0m \u001b[38;5;66;03m# Let's compare\u001b[39;00m\n\u001b[1;32m----> 4\u001b[0m \u001b[38;5;28;01mfor\u001b[39;00m x, y \u001b[38;5;129;01min\u001b[39;00m \u001b[38;5;28mzip\u001b[39m(\u001b[43mtestSetX\u001b[49m, testSetY):\n\u001b[0;32m      6\u001b[0m     \u001b[38;5;28mprint\u001b[39m(\u001b[38;5;124mf\u001b[39m\u001b[38;5;124m\"\u001b[39m\u001b[38;5;124mactual: \u001b[39m\u001b[38;5;132;01m{\u001b[39;00m\u001b[38;5;28mround\u001b[39m(y\u001b[38;5;241m.\u001b[39mitem())\u001b[38;5;132;01m}\u001b[39;00m\u001b[38;5;124m, predicted: \u001b[39m\u001b[38;5;132;01m{\u001b[39;00mmodel(x)\u001b[38;5;241m.\u001b[39mitem()\u001b[38;5;132;01m}\u001b[39;00m\u001b[38;5;124m, rounded: \u001b[39m\u001b[38;5;132;01m{\u001b[39;00m\u001b[38;5;28mround\u001b[39m(model(x)\u001b[38;5;241m.\u001b[39mitem())\u001b[38;5;132;01m}\u001b[39;00m\u001b[38;5;124m\"\u001b[39m)\n\u001b[0;32m      8\u001b[0m \u001b[38;5;66;03m#----------------------------------------\u001b[39;00m\n",
      "\u001b[1;31mNameError\u001b[0m: name 'testSetX' is not defined"
     ]
    }
   ],
   "source": [
    "#----------------------------------------\n",
    "\n",
    "# Let's compare\n",
    "for x, y in zip(testSetX, testSetY):\n",
    "\n",
    "    print(f\"actual: {round(y.item())}, predicted: {model(x).item()}, rounded: {round(model(x).item())}\")\n",
    "    \n",
    "#----------------------------------------"
   ]
  },
  {
   "cell_type": "code",
   "execution_count": null,
   "id": "7aefa466-eca6-4751-8332-59bdfaf6738f",
   "metadata": {
    "tags": []
   },
   "outputs": [],
   "source": [
    "# weights ans bias per pixel\n",
    "for p in model.parameters():\n",
    "        \n",
    "    print(p.data)"
   ]
  },
  {
   "cell_type": "code",
   "execution_count": null,
   "id": "5839487b-6436-4324-a6b4-15dd4e3cf68d",
   "metadata": {},
   "outputs": [],
   "source": []
  }
 ],
 "metadata": {
  "kernelspec": {
   "display_name": "Python 3 (ipykernel)",
   "language": "python",
   "name": "python3"
  },
  "language_info": {
   "codemirror_mode": {
    "name": "ipython",
    "version": 3
   },
   "file_extension": ".py",
   "mimetype": "text/x-python",
   "name": "python",
   "nbconvert_exporter": "python",
   "pygments_lexer": "ipython3",
   "version": "3.10.11"
  }
 },
 "nbformat": 4,
 "nbformat_minor": 5
}
